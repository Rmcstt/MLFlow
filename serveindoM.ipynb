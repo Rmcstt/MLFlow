{
 "cells": [
  {
   "cell_type": "code",
   "execution_count": 39,
   "id": "6c29fbeb-ff99-4455-96d8-780e00d9af8d",
   "metadata": {},
   "outputs": [],
   "source": [
    "import requests\n",
    "import pandas as pd "
   ]
  },
  {
   "cell_type": "code",
   "execution_count": 5,
   "id": "7a3ffc23-3547-49e3-aad6-38af999af371",
   "metadata": {},
   "outputs": [],
   "source": [
    "credito = pd.read_csv(\"Credit.csv\")"
   ]
  },
  {
   "cell_type": "code",
   "execution_count": 7,
   "id": "ad5f7796-8c83-4178-ac5a-eb901253e068",
   "metadata": {},
   "outputs": [],
   "source": [
    "for col in credito.columns:\n",
    "    if credito[col].dtype == 'object':\n",
    "        credito[col] = credito[col].astype('category').cat.codes"
   ]
  },
  {
   "cell_type": "code",
   "execution_count": 9,
   "id": "ec8a649e-a4e5-431b-9f3f-56a8594c23cb",
   "metadata": {},
   "outputs": [],
   "source": [
    "dados = credito.iloc[0:10,0:20].to_json(orient='split')"
   ]
  },
  {
   "cell_type": "code",
   "execution_count": 11,
   "id": "b1a53f70-e235-42fc-a373-d607a1abe022",
   "metadata": {},
   "outputs": [
    {
     "data": {
      "text/plain": [
       "'{\"columns\":[\"checking_status\",\"duration\",\"credit_history\",\"purpose\",\"credit_amount\",\"savings_status\",\"employment\",\"installment_commitment\",\"personal_status\",\"other_parties\",\"residence_since\",\"property_magnitude\",\"age\",\"other_payment_plans\",\"housing\",\"existing_credits\",\"job\",\"num_dependents\",\"own_telephone\",\"foreign_worker\"],\"index\":[0,1,2,3,4,5,6,7,8,9],\"data\":[[2,6,1,7,1169,0,3,4,3,2,4,2,67,1,1,2,3,1,1,1],[1,48,3,7,5951,3,0,2,0,2,2,2,22,1,1,1,3,1,0,1],[0,12,1,4,2096,3,1,2,3,2,3,2,49,1,1,1,2,2,0,1],[2,42,3,5,7882,3,1,2,3,1,4,0,45,1,0,1,3,2,0,1],[2,24,2,1,4870,3,0,3,3,2,4,1,53,1,0,2,3,2,0,1],[0,36,3,4,9055,0,0,2,3,2,4,1,35,1,0,1,2,2,1,1],[0,24,3,5,2835,2,3,3,3,2,4,0,53,1,1,1,3,1,0,1],[1,36,3,2,6948,3,0,2,3,2,2,3,35,1,2,1,0,1,1,1],[0,12,3,7,3059,4,1,2,1,2,4,2,61,1,1,1,2,1,0,1],[1,30,1,1,5234,3,4,4,2,2,2,3,28,1,1,2,0,1,0,1]]}'"
      ]
     },
     "execution_count": 11,
     "metadata": {},
     "output_type": "execute_result"
    }
   ],
   "source": [
    "dados"
   ]
  },
  {
   "cell_type": "code",
   "execution_count": 55,
   "id": "5aac95c6-d4e3-40b2-847b-1d27a373cf4d",
   "metadata": {},
   "outputs": [
    {
     "name": "stdout",
     "output_type": "stream",
     "text": [
      "Erro na requisição: 400\n"
     ]
    }
   ],
   "source": [
    "import requests\n",
    "import json\n",
    "\n",
    "url = 'http://127.0.0.1:5678/invocations'  # Certifique-se de que a URL está correta\n",
    "headers = {'Content-Type': 'application/json'}\n",
    "\n",
    "# Certifique-se de que 'dados' está no formato correto (dicionário ou lista)\n",
    "dados = {'feature1': 1.0, 'feature2': 2.0}  # Exemplo de dados\n",
    "\n",
    "# Converta os dados para JSON\n",
    "data_json = json.dumps(dados)\n",
    "\n",
    "response = requests.post(url, headers=headers, data=data_json)\n",
    "\n",
    "if response.status_code == 200:\n",
    "    previsao = response.json()\n",
    "    print(previsao)\n",
    "else:\n",
    "    print(f\"Erro na requisição: {response.status_code}\")\n"
   ]
  },
  {
   "cell_type": "code",
   "execution_count": 57,
   "id": "78970f88-97dc-495a-8576-e378ec70f988",
   "metadata": {},
   "outputs": [
    {
     "data": {
      "text/plain": [
       "<Response [400]>"
      ]
     },
     "execution_count": 57,
     "metadata": {},
     "output_type": "execute_result"
    }
   ],
   "source": [
    "previsao"
   ]
  },
  {
   "cell_type": "code",
   "execution_count": null,
   "id": "6cf78fdc-11df-4809-801f-e6489c81effe",
   "metadata": {},
   "outputs": [],
   "source": []
  }
 ],
 "metadata": {
  "kernelspec": {
   "display_name": "Python 3 (ipykernel)",
   "language": "python",
   "name": "python3"
  },
  "language_info": {
   "codemirror_mode": {
    "name": "ipython",
    "version": 3
   },
   "file_extension": ".py",
   "mimetype": "text/x-python",
   "name": "python",
   "nbconvert_exporter": "python",
   "pygments_lexer": "ipython3",
   "version": "3.11.7"
  }
 },
 "nbformat": 4,
 "nbformat_minor": 5
}
