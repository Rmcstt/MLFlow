{
 "cells": [
  {
   "cell_type": "code",
   "execution_count": null,
   "metadata": {},
   "outputs": [],
   "source": [
    "import pandas as pd\n",
    "from sklearn.model_selection import train_test_split\n",
    "from sklearn.ensemble import RandomForestClassifier\n",
    "from sklearn.metrics import (\n",
    "    accuracy_score, recall_score, precision_score, f1_score, roc_auc_score, log_loss,\n",
    "    ConfusionMatrixDisplay, RocCurveDisplay\n",
    ")\n",
    "import matplotlib.pyplot as plt\n",
    "\n",
    "import mlflow\n",
    "import mlflow.sklearn"
   ]
  },
  {
   "cell_type": "code",
   "execution_count": null,
   "metadata": {},
   "outputs": [],
   "source": [
    "credito = pd.read_csv('Credit.csv')\n",
    "credito.shape"
   ]
  },
  {
   "cell_type": "code",
   "execution_count": null,
   "metadata": {},
   "outputs": [],
   "source": [
    "credito.head()"
   ]
  },
  {
   "cell_type": "code",
   "execution_count": null,
   "metadata": {},
   "outputs": [],
   "source": [
    "for col in credito.columns:\n",
    "    if credito[col].dtype == 'object':\n",
    "        credito[col] = credito[col].astype('category').cat.codes"
   ]
  },
  {
   "cell_type": "code",
   "execution_count": null,
   "metadata": {},
   "outputs": [],
   "source": [
    "credito.head()"
   ]
  },
  {
   "cell_type": "code",
   "execution_count": null,
   "metadata": {},
   "outputs": [],
   "source": [
    "previsores = credito.iloc[:,0:20].values\n",
    "classe = credito.iloc[:,20].values"
   ]
  },
  {
   "cell_type": "code",
   "execution_count": null,
   "metadata": {},
   "outputs": [],
   "source": [
    "X_treinamento, X_teste, y_treinamento, y_teste = train_test_split(previsores,classe,\n",
    "                                        test_size=0.3,random_state=123)"
   ]
  },
  {
   "cell_type": "code",
   "execution_count": null,
   "metadata": {},
   "outputs": [],
   "source": [
    "def treina_rf(n_estimators):\n",
    "    mlflow.set_experiment(\"rfexperimento\")\n",
    "    with mlflow.start_run():\n",
    "        \n",
    "        modelorf = RandomForestClassifier(n_estimators=n_estimators)\n",
    "        modelorf.fit(X_treinamento, y_treinamento)\n",
    "        previsoes = modelorf.predict(X_teste)\n",
    "\n",
    "        #log de hiper parametros\n",
    "        mlflow.log_param(\"n_estimators\", n_estimators)\n",
    "\n",
    "        #métricas\n",
    "        acuracia = accuracy_score(y_teste, previsoes)\n",
    "        recall = recall_score(y_teste, previsoes)\n",
    "        precision = precision_score(y_teste, previsoes)\n",
    "        f1 = f1_score(y_teste, previsoes)\n",
    "        auc= roc_auc_score(y_teste, previsoes)\n",
    "        log = log_loss(y_teste, previsoes)\n",
    "\n",
    "        #registrar métricas\n",
    "        mlflow.log_metric(\"acuracia\",acuracia)\n",
    "        mlflow.log_metric(\"recall\",recall)\n",
    "        mlflow.log_metric(\"precision\",precision)\n",
    "        mlflow.log_metric(\"f1\",f1)\n",
    "        mlflow.log_metric(\"auc\",auc)\n",
    "        mlflow.log_metric(\"log\",log)    \n",
    "\n",
    "        #gráficos\n",
    "        confusion = ConfusionMatrixDisplay.from_estimator(modelorf, X_teste, y_teste)\n",
    "        plt.savefig(\"confusionrf.png\")\n",
    "        roc = RocCurveDisplay.from_estimator(modelorf, X_teste, y_teste)\n",
    "        plt.savefig(\"rocfr.png\")\n",
    "\n",
    "        #logar gráficos\n",
    "        mlflow.log_artifact(\"confusionrf.png\")\n",
    "        mlflow.log_artifact(\"rocfr.png\")      \n",
    "\n",
    "        #modelo\n",
    "        mlflow.sklearn.log_model(modelorf,\"ModeloNB\")\n",
    "\n",
    "        #informações da execução\n",
    "        print(\"Modelo: \", mlflow.active_run().info.run_uuid)   \n",
    "\n",
    "    mlflow.end_run()"
   ]
  },
  {
   "cell_type": "code",
   "execution_count": null,
   "metadata": {},
   "outputs": [],
   "source": [
    "arvores = [50,100,500,750,1000]\n",
    "for n in arvores:\n",
    "    treina_rf(n)"
   ]
  }
 ],
 "metadata": {
  "kernelspec": {
   "display_name": "Python 3 (ipykernel)",
   "language": "python",
   "name": "python3"
  },
  "language_info": {
   "codemirror_mode": {
    "name": "ipython",
    "version": 3
   },
   "file_extension": ".py",
   "mimetype": "text/x-python",
   "name": "python",
   "nbconvert_exporter": "python",
   "pygments_lexer": "ipython3",
   "version": "3.11.9"
  }
 },
 "nbformat": 4,
 "nbformat_minor": 4
}
