{
 "cells": [
  {
   "cell_type": "code",
   "execution_count": 1,
   "metadata": {
    "editable": true,
    "slideshow": {
     "slide_type": ""
    },
    "tags": []
   },
   "outputs": [],
   "source": [
    "import requests\n",
    "import pandas as pd"
   ]
  },
  {
   "cell_type": "code",
   "execution_count": 7,
   "metadata": {
    "editable": true,
    "slideshow": {
     "slide_type": ""
    },
    "tags": []
   },
   "outputs": [],
   "source": [
    "credito = pd.read_csv(\"Credit.csv\")"
   ]
  },
  {
   "cell_type": "code",
   "execution_count": 8,
   "metadata": {
    "editable": true,
    "slideshow": {
     "slide_type": ""
    },
    "tags": []
   },
   "outputs": [],
   "source": [
    "for col in credito.columns:\n",
    "    if credito[col].dtype == 'object':\n",
    "        credito[col] = credito[col].astype('category').cat.codes"
   ]
  },
  {
   "cell_type": "code",
   "execution_count": 9,
   "metadata": {
    "editable": true,
    "slideshow": {
     "slide_type": ""
    },
    "tags": []
   },
   "outputs": [],
   "source": [
    "dados = credito.iloc[0:10,0:20].to_json(orient='split')"
   ]
  },
  {
   "cell_type": "code",
   "execution_count": 10,
   "metadata": {
    "editable": true,
    "slideshow": {
     "slide_type": ""
    },
    "tags": []
   },
   "outputs": [
    {
     "data": {
      "text/plain": [
       "'{\"columns\":[\"checking_status\",\"duration\",\"credit_history\",\"purpose\",\"credit_amount\",\"savings_status\",\"employment\",\"installment_commitment\",\"personal_status\",\"other_parties\",\"residence_since\",\"property_magnitude\",\"age\",\"other_payment_plans\",\"housing\",\"existing_credits\",\"job\",\"num_dependents\",\"own_telephone\",\"foreign_worker\"],\"index\":[0,1,2,3,4,5,6,7,8,9],\"data\":[[2,6,1,7,1169,0,3,4,3,2,4,2,67,1,1,2,3,1,1,1],[1,48,3,7,5951,3,0,2,0,2,2,2,22,1,1,1,3,1,0,1],[0,12,1,4,2096,3,1,2,3,2,3,2,49,1,1,1,2,2,0,1],[2,42,3,5,7882,3,1,2,3,1,4,0,45,1,0,1,3,2,0,1],[2,24,2,1,4870,3,0,3,3,2,4,1,53,1,0,2,3,2,0,1],[0,36,3,4,9055,0,0,2,3,2,4,1,35,1,0,1,2,2,1,1],[0,24,3,5,2835,2,3,3,3,2,4,0,53,1,1,1,3,1,0,1],[1,36,3,2,6948,3,0,2,3,2,2,3,35,1,2,1,0,1,1,1],[0,12,3,7,3059,4,1,2,1,2,4,2,61,1,1,1,2,1,0,1],[1,30,1,1,5234,3,4,4,2,2,2,3,28,1,1,2,0,1,0,1]]}'"
      ]
     },
     "execution_count": 10,
     "metadata": {},
     "output_type": "execute_result"
    }
   ],
   "source": [
    "dados"
   ]
  },
  {
   "cell_type": "code",
   "execution_count": 11,
   "metadata": {
    "editable": true,
    "slideshow": {
     "slide_type": ""
    },
    "tags": []
   },
   "outputs": [],
   "source": [
    "previsao = requests.post(url='http://localhost:8889/invocations', \n",
    "                         headers={'Content-Type' : 'application/json' , }, data=dados)"
   ]
  },
  {
   "cell_type": "code",
   "execution_count": 12,
   "metadata": {
    "editable": true,
    "slideshow": {
     "slide_type": ""
    },
    "tags": []
   },
   "outputs": [
    {
     "data": {
      "text/plain": [
       "<Response [403]>"
      ]
     },
     "execution_count": 12,
     "metadata": {},
     "output_type": "execute_result"
    }
   ],
   "source": [
    "previsao"
   ]
  },
  {
   "cell_type": "code",
   "execution_count": 13,
   "metadata": {
    "editable": true,
    "slideshow": {
     "slide_type": ""
    },
    "tags": []
   },
   "outputs": [
    {
     "data": {
      "text/plain": [
       "'<!DOCTYPE HTML>\\n<html>\\n\\n<head>\\n\\n    <meta charset=\"utf-8\">\\n\\n    <title>Jupyter Server</title>\\n    <link id=\"favicon\" rel=\"shortcut icon\" type=\"image/x-icon\" href=\"/static/favicon.ico?v=50afa725b5de8b00030139d09b38620224d4e7dba47c07ef0e86d4643f30c9bfe6bb7e1a4a1c561aa32834480909a4b6fe7cd1e17f7159330b6b5914bf45a880\">\\n    \\n    <link rel=\"stylesheet\" href=\"/static/style/bootstrap.min.css?v=0e8a7fbd6de23ad6b27ab95802a0a0915af6693af612bc304d83af445529ce5d95842309ca3405d10f538d45c8a3a261b8cff78b4bd512dd9effb4109a71d0ab\" />\\n    <link rel=\"stylesheet\" href=\"/static/style/bootstrap-theme.min.css?v=8b2f045cb5b4d5ad346f6e816aa2566829a4f5f2783ec31d80d46a57de8ac0c3d21fe6e53bcd8e1f38ac17fcd06d12088bc9b43e23b5d1da52d10c6b717b22b3\" />\\n    <link rel=\"stylesheet\" href=\"/static/style/index.css?v=30372e3246a801d662cf9e3f9dd656fa192eebde9054a2282449fe43919de9f0ee9b745d7eb49d3b0a5e56357912cc7d776390eddcab9dac85b77bdb17b4bdae\" />\\n    <meta http-equiv=\"X-UA-Compatible\" content=\"IE=edge\" />\\n    <meta name=\"viewport\" content=\"width=device-width, initial-scale=1.0\">\\n\\n    \\n\\n    \\n<style type=\"text/css\">\\n    /* disable initial hide */\\n    div#header,\\n    div#site {\\n        display: block;\\n    }\\n</style>\\n\\n\\n    \\n    \\n\\n</head>\\n\\n<body class=\"\"    dir=\"ltr\">\\n\\n  <noscript>\\n    <div id=\\'noscript\\'>\\n      Jupyter Server requires JavaScript.<br>\\n      Please enable it to proceed. \\n    </div>\\n  </noscript>\\n\\n  <div id=\"header\" role=\"navigation\" aria-label=\"Top Menu\">\\n    <div id=\"header-container\" class=\"container\">\\n      <div id=\"jupyter_server\" class=\"nav navbar-brand\"><a href=\"/lab\" title=\\'dashboard\\'>\\n          <img src=\\'/static/logo/logo.png?v=a2a176ee3cee251ffddf5fa21fe8e43727a9e5f87a06f9c91ad7b776d9e9d3d5e0159c16cc188a3965e00375fb4bc336c16067c688f5040c0c2d4bfdb852a9e4\\' alt=\\'Jupyter Server\\' />\\n        </a></div>\\n\\n      \\n      \\n\\n      \\n      \\n\\n    </div>\\n    <div class=\"header-bar\"></div>\\n\\n    \\n    \\n  </div>\\n\\n  <div id=\"site\">\\n    \\n\\n<div class=\"error\">\\n    \\n    <h1>403 : Forbidden</h1>\\n    \\n    \\n    \\n    <p>The error was:</p>\\n    <div class=\"traceback-wrapper\">\\n        <pre class=\"traceback\">&#39;_xsrf&#39; argument missing from POST</pre>\\n    </div>\\n    \\n    \\n</div>\\n\\n\\n  </div>\\n\\n  \\n  \\n\\n  \\n\\n\\n  <script type=\\'text/javascript\\'>\\n    function _remove_token_from_url() {\\n      if (window.location.search.length <= 1) {\\n        return;\\n      }\\n      var search_parameters = window.location.search.slice(1).split(\\'&\\');\\n      for (var i = 0; i < search_parameters.length; i++) {\\n        if (search_parameters[i].split(\\'=\\')[0] === \\'token\\') {\\n          // remote token from search parameters\\n          search_parameters.splice(i, 1);\\n          var new_search = \\'\\';\\n          if (search_parameters.length) {\\n            new_search = \\'?\\' + search_parameters.join(\\'&\\');\\n          }\\n          var new_url = window.location.origin +\\n            window.location.pathname +\\n            new_search +\\n            window.location.hash;\\n          window.history.replaceState({}, \"\", new_url);\\n          return;\\n        }\\n      }\\n    }\\n    _remove_token_from_url();\\n  </script>\\n</body>\\n\\n</html>'"
      ]
     },
     "execution_count": 13,
     "metadata": {},
     "output_type": "execute_result"
    }
   ],
   "source": [
    "previsao.text"
   ]
  },
  {
   "cell_type": "code",
   "execution_count": null,
   "metadata": {
    "editable": true,
    "slideshow": {
     "slide_type": ""
    },
    "tags": []
   },
   "outputs": [],
   "source": []
  }
 ],
 "metadata": {
  "kernelspec": {
   "display_name": "Python 3 (ipykernel)",
   "language": "python",
   "name": "python3"
  },
  "language_info": {
   "codemirror_mode": {
    "name": "ipython",
    "version": 3
   },
   "file_extension": ".py",
   "mimetype": "text/x-python",
   "name": "python",
   "nbconvert_exporter": "python",
   "pygments_lexer": "ipython3",
   "version": "3.11.9"
  }
 },
 "nbformat": 4,
 "nbformat_minor": 4
}
